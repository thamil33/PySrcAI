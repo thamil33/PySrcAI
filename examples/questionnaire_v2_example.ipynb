{
 "cells": [
  {
   "cell_type": "markdown",
   "metadata": {
    "id": "zWgEkOAO9OVz"
   },
   "source": [
    "# Modular launch notebook.\n",
    "\n",
    "This notebook can be used as an alternative to launchpad.\n",
    "\n"
   ]
  },
  {
   "cell_type": "code",
   "execution_count": null,
   "metadata": {
    "id": "psW9YfYltDzj"
   },
   "outputs": [],
   "source": [
    "# @title Imports\n",
    "\n",
    "import numpy as np\n",
    "from IPython import display\n",
    "\n",
    "import sentence_transformers\n",
    "\n",
    "from concordia.language_model import gpt_model\n",
    "from concordia.language_model import no_language_model\n",
    "\n",
    "from concordia.prefabs.simulation import generic as simulation\n",
    "\n",
    "import concordia.prefabs.entity as entity_prefabs\n",
    "import concordia.prefabs.game_master as game_master_prefabs\n",
    "\n",
    "from concordia.utils import helper_functions"
   ]
  },
  {
   "cell_type": "code",
   "execution_count": null,
   "metadata": {
    "id": "vnxj8_ce5eFd"
   },
   "outputs": [],
   "source": [
    "# @title Language Model - pick your model and provide keys or select DISABLE_LANGUAGE_MODEL\n",
    "\n",
    "# By default this colab uses GPT-4, so you must provide an API key.\n",
    "# Note that it is also possible to use local models or other API models,\n",
    "# simply replace this cell with the correct initialization for the model\n",
    "# you want to use.\n",
    "GPT_API_KEY = '' #@param {type: 'string'}\n",
    "GPT_MODEL_NAME = 'gpt-4.1-nano' #@param {type: 'string'}\n",
    "\n",
    "if not GPT_API_KEY:\n",
    "  raise ValueError('GPT_API_KEY is required.')\n",
    "\n",
    "# To debug without spending money on API calls, set DISABLE_LANGUAGE_MODEL=True\n",
    "DISABLE_LANGUAGE_MODEL = False\n",
    "\n",
    "if not DISABLE_LANGUAGE_MODEL:\n",
    "  model = gpt_model.GptLanguageModel(api_key=GPT_API_KEY,\n",
    "                                     model_name=GPT_MODEL_NAME)\n",
    "else:\n",
    "  model = no_language_model.NoLanguageModel()\n"
   ]
  },
  {
   "cell_type": "markdown",
   "metadata": {
    "id": "brdgSD2NuwOQ"
   },
   "source": [
    "## Language Model setup"
   ]
  },
  {
   "cell_type": "code",
   "execution_count": null,
   "metadata": {
    "id": "Ez6153pSuwOQ"
   },
   "outputs": [],
   "source": [
    "# @title Setup sentence encoder\n",
    "\n",
    "if DISABLE_LANGUAGE_MODEL:\n",
    "  embedder = np.ones(3)\n",
    "else:\n",
    "  st_model = sentence_transformers.SentenceTransformer(\n",
    "      'sentence-transformers/all-mpnet-base-v2')\n",
    "  embedder = lambda x: st_model.encode(x, show_progress_bar=False)"
   ]
  },
  {
   "cell_type": "code",
   "execution_count": null,
   "metadata": {
    "id": "_j3qaLBNHp_P"
   },
   "outputs": [],
   "source": [
    "test = model.sample_text(\n",
    "    'Is societal and technological progress like getting a clearer picture of '\n",
    "    'something true and deep?')\n",
    "print(test)"
   ]
  },
  {
   "cell_type": "markdown",
   "metadata": {
    "id": "ixIOLiWL4s8-"
   },
   "source": [
    "# Parameters"
   ]
  },
  {
   "cell_type": "code",
   "execution_count": null,
   "metadata": {
    "id": "2jg5UkxprRCz"
   },
   "outputs": [],
   "source": [
    "# @title Load prefabs from packages to make the specific palette to use here.\n",
    "\n",
    "prefabs = {\n",
    "    **helper_functions.get_package_classes(entity_prefabs),\n",
    "    **helper_functions.get_package_classes(game_master_prefabs),\n",
    "}"
   ]
  },
  {
   "cell_type": "code",
   "execution_count": null,
   "metadata": {
    "id": "7yK5YJqsJe-R"
   },
   "outputs": [],
   "source": [
    "display.display(\n",
    "    display.Markdown(helper_functions.print_pretty_prefabs(prefabs)))"
   ]
  },
  {
   "cell_type": "code",
   "execution_count": null,
   "metadata": {
    "id": "l77tYjIl3xBo"
   },
   "outputs": [],
   "source": [
    "\"\"\"A prefab implementing an entity with a minimal set of components.\"\"\"\n",
    "\n",
    "from collections.abc import Mapping\n",
    "import dataclasses\n",
    "\n",
    "from concordia.agents import entity_agent_with_logging\n",
    "from concordia.associative_memory import basic_associative_memory\n",
    "from concordia.components import agent as agent_components\n",
    "from concordia.language_model import language_model\n",
    "from concordia.typing import prefab as prefab_lib\n",
    "\n",
    "DEFAULT_INSTRUCTIONS_COMPONENT_KEY = 'Instructions'\n",
    "DEFAULT_INSTRUCTIONS_PRE_ACT_LABEL = '\\nInstructions'\n",
    "DEFAULT_GOAL_COMPONENT_KEY = 'Goal'\n",
    "\n",
    "\n",
    "@dataclasses.dataclass\n",
    "class MyAgent(prefab_lib.Prefab):\n",
    "  \"\"\"A prefab implementing an entity with a minimal set of components.\"\"\"\n",
    "\n",
    "  description: str = (\n",
    "      'An entity that has a minimal set of components and is configurable by'\n",
    "      ' the user. The initial set of components manage memory, observations,'\n",
    "      ' and instructions. If goal is specified, the entity will have a goal '\n",
    "      'constant component.'\n",
    "  )\n",
    "  params: Mapping[str, str] = dataclasses.field(\n",
    "      default_factory=lambda: {\n",
    "          'name': 'Alice',\n",
    "          'goal': '',\n",
    "      }\n",
    "  )\n",
    "\n",
    "  def build(\n",
    "      self,\n",
    "      model: language_model.LanguageModel,\n",
    "      memory_bank: basic_associative_memory.AssociativeMemoryBank,\n",
    "  ) -> entity_agent_with_logging.EntityAgentWithLogging:\n",
    "    \"\"\"Build an agent.\n",
    "\n",
    "    Args:\n",
    "      model: The language model to use.\n",
    "      memory_bank: The agent's memory_bank object.\n",
    "\n",
    "    Returns:\n",
    "      An entity.\n",
    "    \"\"\"\n",
    "\n",
    "    agent_name = self.params.get('name', 'Alice')\n",
    "\n",
    "    instructions = agent_components.instructions.Instructions(\n",
    "          agent_name=agent_name,\n",
    "          pre_act_label=DEFAULT_INSTRUCTIONS_PRE_ACT_LABEL,\n",
    "      )\n",
    "\n",
    "    observation_to_memory = agent_components.observation.ObservationToMemory()\n",
    "\n",
    "    observation_label = '\\nObservation'\n",
    "    observation = agent_components.observation.LastNObservations(\n",
    "        history_length=100, pre_act_label=observation_label\n",
    "    )\n",
    "\n",
    "    principle = agent_components.question_of_recent_memories.QuestionOfRecentMemories(\n",
    "        model=model,\n",
    "        pre_act_label=f'{agent_name} main guiding principle:',\n",
    "        question='What would a Hobbit of the Baggins family do?',\n",
    "        answer_prefix='A Baggins would: ',\n",
    "        add_to_memory=False,\n",
    "    )\n",
    "\n",
    "    components_of_agent = {\n",
    "        DEFAULT_INSTRUCTIONS_COMPONENT_KEY: instructions,\n",
    "        'observation_to_memory': observation_to_memory,\n",
    "        agent_components.observation.DEFAULT_OBSERVATION_COMPONENT_KEY: (\n",
    "            observation\n",
    "        ),\n",
    "        agent_components.memory.DEFAULT_MEMORY_COMPONENT_KEY: (\n",
    "            agent_components.memory.AssociativeMemory(memory_bank=memory_bank)\n",
    "        ),\n",
    "        'principle': principle,\n",
    "    }\n",
    "\n",
    "    component_order = list(components_of_agent.keys())\n",
    "\n",
    "    if self.params.get('goal', ''):\n",
    "      goal_key = DEFAULT_GOAL_COMPONENT_KEY\n",
    "      goal = agent_components.constant.Constant(\n",
    "          state=self.params.get('goal', ''),\n",
    "          pre_act_label='Overarching goal',\n",
    "      )\n",
    "      components_of_agent[goal_key] = goal\n",
    "      # Place goal after the instructions.\n",
    "      component_order.insert(1, goal_key)\n",
    "\n",
    "    act_component = agent_components.concat_act_component.ConcatActComponent(\n",
    "        model=model,\n",
    "        component_order=component_order,\n",
    "    )\n",
    "\n",
    "    agent = entity_agent_with_logging.EntityAgentWithLogging(\n",
    "        agent_name=agent_name,\n",
    "        act_component=act_component,\n",
    "        context_components=components_of_agent,\n",
    "    )\n",
    "\n",
    "    return agent"
   ]
  },
  {
   "cell_type": "code",
   "execution_count": null,
   "metadata": {
    "id": "p_WR5yse309B"
   },
   "outputs": [],
   "source": [
    "prefabs['myagent__Entity'] = MyAgent()"
   ]
  },
  {
   "cell_type": "code",
   "execution_count": null,
   "metadata": {
    "id": "k2XMocivj3es"
   },
   "outputs": [],
   "source": [
    "import numpy as np\n",
    "\n",
    "def get_summary(answers):\n",
    "\n",
    "  players = answers.keys()\n",
    "  results = {}\n",
    "\n",
    "  for player in players:\n",
    "    results[player] = {}\n",
    "\n",
    "    questionnaires = answers[player].keys()\n",
    "    for questionnaire in questionnaires:\n",
    "\n",
    "      questions = answers[player][questionnaire]\n",
    "      values = []\n",
    "\n",
    "      for _, player_answer in questions.items():\n",
    "        values.append(player_answer[\"value\"])\n",
    "\n",
    "      results[player][questionnaire] = np.mean(values)\n",
    "\n",
    "  return results"
   ]
  },
  {
   "cell_type": "code",
   "execution_count": null,
   "metadata": {
    "id": "-Hzgk-LEOnIW"
   },
   "outputs": [],
   "source": [
    "# @title Scene 1 - Frodo in the Shire\n",
    "\n",
    "from concordia.contrib.data.questionnaires import DASS_ANXIETY\n",
    "from concordia.contrib.data.questionnaires import DASS_DEPRESSION\n",
    "from concordia.contrib.data.questionnaires import DASS_STRESS\n",
    "\n",
    "FRODO = \"Frodo\"\n",
    "\n",
    "instances = [\n",
    "    prefab_lib.InstanceConfig(\n",
    "        prefab='myagent__Entity',\n",
    "        role=prefab_lib.Role.ENTITY,\n",
    "        params={\n",
    "            'name': FRODO,\n",
    "            'goal': f'Live a relaxed and happy life at the Shire.',\n",
    "        },\n",
    "    ),\n",
    "    prefab_lib.InstanceConfig(\n",
    "        prefab='interviewer__GameMaster',\n",
    "        role=prefab_lib.Role.GAME_MASTER,\n",
    "        params={\n",
    "          \"name\": \"interviewer\",\n",
    "          \"player_name_to_question\": FRODO,\n",
    "          \"questionnaires\": [DASS_ANXIETY, DASS_DEPRESSION, DASS_STRESS],\n",
    "          \"verbose\": False,\n",
    "        },\n",
    "    ),\n",
    "    prefab_lib.InstanceConfig(\n",
    "        prefab='formative_memories_initializer__GameMaster',\n",
    "        role=prefab_lib.Role.INITIALIZER,\n",
    "        params={\n",
    "            'name': 'initial setup rules',\n",
    "            'next_game_master_name': 'interviewer',\n",
    "            'shared_memories': [\n",
    "                f'Frodo is a happy hobbit, a very happy hobbit who enjoys gardening, cooking, eating, and drinking with his friends. Frodo does not have a single worry in the world. One day, Gandalf the wizard pays Frodo a visit to take part into his uncle Bilbo\\'s 111th birthday. Frodo is happy to see Gandalf again, and is excited for Bilbo\\'s birthday!',\n",
    "            ],\n",
    "            'player_specific_context': {FRODO: [f'{FRODO} is happy, relaxed, and is looking forward to enjoying Bilbo\\'s 111th birthday with Gandalf and his friends.']\n",
    "            },\n",
    "        }\n",
    "    )\n",
    "]"
   ]
  },
  {
   "cell_type": "code",
   "execution_count": null,
   "metadata": {
    "id": "68eqdgXZMneJ"
   },
   "outputs": [],
   "source": [
    "config = prefab_lib.Config(\n",
    "    default_premise=f'Frodo is a happy hobbit, a very happy hobbit who enjoys gardening, cooking, eating, and drinking with his friends. Frodo does not have a single worry in the world. One day, Gandalf the wizard pays Frodo a visit to take part into his uncle Bilbo\\'s 111th birthday. Frodo is happy to see Gandalf again, and is excited for Bilbo\\'s birthday!',\n",
    "    default_max_steps=100,\n",
    "    prefabs=prefabs,\n",
    "    instances=instances,\n",
    ")"
   ]
  },
  {
   "cell_type": "code",
   "execution_count": null,
   "metadata": {
    "id": "GqzRE7oOYN_m"
   },
   "outputs": [],
   "source": [
    "# @title Initialize the simulation\n",
    "runnable_simulation = simulation.Simulation(\n",
    "    config=config,\n",
    "    model=model,\n",
    "    embedder=embedder,\n",
    ")"
   ]
  },
  {
   "cell_type": "code",
   "execution_count": null,
   "metadata": {
    "id": "M4Z1ttTfuwOR"
   },
   "outputs": [],
   "source": [
    "# @title Run the simulation\n",
    "results_log = runnable_simulation.play(max_steps = 100)"
   ]
  },
  {
   "cell_type": "code",
   "execution_count": null,
   "metadata": {
    "id": "pewMIIPmNYdT"
   },
   "outputs": [],
   "source": [
    "display.HTML(results_log)"
   ]
  },
  {
   "cell_type": "code",
   "execution_count": null,
   "metadata": {
    "id": "ynq0s6iQj_ew"
   },
   "outputs": [],
   "source": [
    "answers = runnable_simulation.game_masters[1]._context_components['__next_action_spec__'].get_answers()\n",
    "\n",
    "print(get_summary(answers))"
   ]
  },
  {
   "cell_type": "code",
   "execution_count": null,
   "metadata": {
    "id": "ERrSFZ1YjAQ4"
   },
   "outputs": [],
   "source": [
    "# @title Scene 2 - Frodo after Moria\n",
    "\n",
    "FRODO = \"Frodo\"\n",
    "\n",
    "instances = [\n",
    "    prefab_lib.InstanceConfig(\n",
    "        prefab='myagent__Entity',\n",
    "        role=prefab_lib.Role.ENTITY,\n",
    "        params={\n",
    "            'name': FRODO,\n",
    "            'goal': f'Destroy the ring and go back to the shire',\n",
    "        },\n",
    "    ),\n",
    "    prefab_lib.InstanceConfig(\n",
    "        prefab='interviewer__GameMaster',\n",
    "        role=prefab_lib.Role.GAME_MASTER,\n",
    "        params={\n",
    "          \"name\": \"interviewer\",\n",
    "          \"player_name_to_question\": FRODO,\n",
    "          \"questionnaires\": [DASS_ANXIETY, DASS_DEPRESSION, DASS_STRESS],\n",
    "          \"verbose\": False,\n",
    "        },\n",
    "    ),\n",
    "    prefab_lib.InstanceConfig(\n",
    "        prefab='formative_memories_initializer__GameMaster',\n",
    "        role=prefab_lib.Role.INITIALIZER,\n",
    "        params={\n",
    "            'name': 'initial setup rules',\n",
    "            'next_game_master_name': 'interviewer',\n",
    "            'shared_memories': [\n",
    "                f'The remaining members of the fellowship have just exited the ruins of Moria, barely escaped with their lives. Gandalf unfortunately succumbed to the Balrog, and because of that, the morale of the fellowship of the ring is very low.',\n",
    "                f\"The group has set main camp in the woods, the sun is about to set.\"\n",
    "            ],\n",
    "            'player_specific_context': {FRODO: [f'{FRODO} is profoundly demoralized, he misses the shire, is mourning for Gandalf and is anxious for the future. Frodo worries that he will never see the shire and the comforts of his home again.']\n",
    "            },\n",
    "        }\n",
    "    )\n",
    "]"
   ]
  },
  {
   "cell_type": "code",
   "execution_count": null,
   "metadata": {
    "id": "VFg_IaR1jCHx"
   },
   "outputs": [],
   "source": [
    "config = prefab_lib.Config(\n",
    "    default_premise=f'The group has set camp in the woods, just a few hours ago Gandalf was slain by the Balrog of Moria, and the fellowship of the ring is deeply demoralized.',\n",
    "    default_max_steps=100,\n",
    "    prefabs=prefabs,\n",
    "    instances=instances,\n",
    ")"
   ]
  },
  {
   "cell_type": "code",
   "execution_count": null,
   "metadata": {
    "id": "jWD47EqmT8Xx"
   },
   "outputs": [],
   "source": [
    "# @title Initialize the simulation\n",
    "runnable_simulation = simulation.Simulation(\n",
    "    config=config,\n",
    "    model=model,\n",
    "    embedder=embedder,\n",
    ")"
   ]
  },
  {
   "cell_type": "code",
   "execution_count": null,
   "metadata": {
    "id": "7BZskh3bjEXW"
   },
   "outputs": [],
   "source": [
    "# @title Run the simulation\n",
    "results_log = runnable_simulation.play(max_steps = 100)"
   ]
  },
  {
   "cell_type": "code",
   "execution_count": null,
   "metadata": {
    "id": "SYTmIzhpH80B"
   },
   "outputs": [],
   "source": [
    "display.HTML(results_log)"
   ]
  },
  {
   "cell_type": "code",
   "execution_count": null,
   "metadata": {
    "id": "LF7IoTqUkAtD"
   },
   "outputs": [],
   "source": [
    "answers = runnable_simulation.game_masters[1]._context_components['__next_action_spec__'].get_answers()\n",
    "\n",
    "print(get_summary(answers))"
   ]
  },
  {
   "cell_type": "markdown",
   "metadata": {
    "id": "8DovnYWTIl-Y"
   },
   "source": [
    "```\n",
    "Copyright 2025 DeepMind Technologies Limited.\n",
    "\n",
    "Licensed under the Apache License, Version 2.0 (the \"License\");\n",
    "you may not use this file except in compliance with the License.\n",
    "You may obtain a copy of the License at\n",
    "\n",
    "    https://www.apache.org/licenses/LICENSE-2.0\n",
    "\n",
    "Unless required by applicable law or agreed to in writing, software\n",
    "distributed under the License is distributed on an \"AS IS\" BASIS,\n",
    "WITHOUT WARRANTIES OR CONDITIONS OF ANY KIND, either express or implied.\n",
    "See the License for the specific language governing permissions and\n",
    "limitations under the License.\n",
    "```"
   ]
  }
 ],
 "metadata": {
  "colab": {
   "private_outputs": true,
   "provenance": []
  },
  "kernelspec": {
   "display_name": "Python 3",
   "name": "python3"
  },
  "language_info": {
   "codemirror_mode": {
    "name": "ipython",
    "version": 3
   },
   "file_extension": ".py",
   "mimetype": "text/x-python",
   "name": "python",
   "nbconvert_exporter": "python",
   "pygments_lexer": "ipython3",
   "version": "3.11.9"
  }
 },
 "nbformat": 4,
 "nbformat_minor": 0
}
